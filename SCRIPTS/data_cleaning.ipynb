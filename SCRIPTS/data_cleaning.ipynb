{
 "cells": [
  {
   "cell_type": "code",
   "execution_count": 1,
   "metadata": {},
   "outputs": [],
   "source": [
    "# load necessary libraries. install what you don't have\n",
    "import numpy as np\n",
    "import pandas as pd\n",
    "import requests\n",
    "import requests\n",
    "import urllib\n",
    "import os\n",
    "import pprint\n",
    "import json\n",
    "import matplotlib.pyplot as plt\n",
    "import seaborn as sns\n",
    "import nltk \n",
    "import sklearn "
   ]
  },
  {
   "cell_type": "code",
   "execution_count": 18,
   "metadata": {},
   "outputs": [],
   "source": [
    "df = pd.read_excel(\"../DATA/original_data.xls\", sheet_name=\"Data\")"
   ]
  },
  {
   "cell_type": "code",
   "execution_count": 19,
   "metadata": {},
   "outputs": [
    {
     "name": "stdout",
     "output_type": "stream",
     "text": [
      "           Date  Real Total Return Price   PE Ratio\n",
      "1128 1965-01-01            109618.976259  18.748925\n",
      "1129 1965-02-01            110689.595261  18.709548\n",
      "1130 1965-03-01            110707.980510  18.553419\n",
      "1131 1965-04-01            112076.467028  18.585224\n",
      "1132 1965-05-01            114020.425301  18.651798\n"
     ]
    }
   ],
   "source": [
    "#Columns from original dataset we want to keep\n",
    "columns_to_keep = [\"Date\", \"S&P Comp. P\", \"Earnings\", \"Real Total Return Price\" ]\n",
    "df = df[columns_to_keep]\n",
    "\n",
    "#Date format is inconsistent so lets make the formatting better and recognized as a date data type\n",
    "df[\"Date\"] = pd.to_datetime(df[\"Date\"].astype(str), format=\"%Y-%m-%d\")\n",
    "\n",
    "#Filter out all dates before 1965, reconsider if this is a good selection later\n",
    "df = df[df[\"Date\"] >= \"1965-01-01\"]\n",
    "\n",
    "#Added PE ratio column\n",
    "df[\"PE Ratio\"] = df[\"S&P Comp. P\"] / df[\"Earnings\"]\n",
    "\n",
    "#Drop price and earnings columns because that data is now stored in the PE column\n",
    "df = df.drop(columns=[\"S&P Comp. P\", \"Earnings\"])\n",
    "\n",
    "#df.rename(columns={\"10 Year Annualized Stock Real Return\": \"10 Year Return\"}, inplace=True)\n",
    "\n",
    "\n",
    "print(df.head())"
   ]
  },
  {
   "cell_type": "code",
   "execution_count": 20,
   "metadata": {},
   "outputs": [
    {
     "name": "stdout",
     "output_type": "stream",
     "text": [
      "           Date  Real Total Return Price   PE Ratio  5 Year Annual Return  \\\n",
      "1128 1965-01-01            109618.976259  18.748925              0.002613   \n",
      "1129 1965-02-01            110689.595261  18.709548             -0.006861   \n",
      "1130 1965-03-01            110707.980510  18.553419             -0.003975   \n",
      "1131 1965-04-01            112076.467028  18.585224             -0.013485   \n",
      "1132 1965-05-01            114020.425301  18.651798             -0.040447   \n",
      "\n",
      "      3 Year Annual Return  \n",
      "1128              0.035407  \n",
      "1129              0.016211  \n",
      "1130              0.009866  \n",
      "1131              0.029799  \n",
      "1132              0.031574  \n"
     ]
    }
   ],
   "source": [
    "# General function to calculate N-year returns\n",
    "#Takes in 3 paramaters, a date, the dataframe, and then how many years out you want to calculate annual returns for\n",
    "def get_n_year_return(date, df, years):\n",
    "    #Calculates a target date by adding desired amount of years to current date to get futrue date (defaults to 10)\n",
    "    target_date = date + pd.DateOffset(years=years)\n",
    "    #Filters dataframe to only include dates that occur after the date provided to make searching quicker, then looks for the target date n years out\n",
    "    \n",
    "    # Filter the DataFrame to only include dates on or after the target date\n",
    "    future_rows = df[df[\"Date\"] >= target_date]\n",
    "\n",
    "    # Check if there are any rows left after filtering\n",
    "    if not future_rows.empty:\n",
    "        # Select the first row (earliest available future date)\n",
    "        future_row = future_rows.iloc[0]\n",
    "    else:\n",
    "        # If no future row is found, return None\n",
    "        future_row = None\n",
    "\n",
    "\n",
    "    if future_row is not None:\n",
    "        #If some observation n years out exists, then using the compound annual growth formula given by original dataset calcualte the CAGR annual return \n",
    "        return (future_row[\"Real Total Return Price\"] / df[df[\"Date\"] == date][\"Real Total Return Price\"].values[0]) ** (1/years) - 1\n",
    "    return None  # Return None if no valid future date is found\n",
    "\n",
    "# Create an empty list to store results\n",
    "five_year_returns = []\n",
    "three_year_returns = []\n",
    "\n",
    "# Iterate through each row in the DataFrame\n",
    "for index, row in df.iterrows():\n",
    "    five_year_returns.append(get_n_year_return(row[\"Date\"], df, 5))\n",
    "    three_year_returns.append(get_n_year_return(row[\"Date\"], df, 3))\n",
    "\n",
    "# Assign results to new columns\n",
    "df[\"5 Year Annual Return\"] = five_year_returns\n",
    "df[\"3 Year Annual Return\"] = three_year_returns\n",
    "\n",
    "# Display the first few rows\n",
    "print(df.head())\n"
   ]
  }
 ],
 "metadata": {
  "kernelspec": {
   "display_name": "base",
   "language": "python",
   "name": "python3"
  },
  "language_info": {
   "codemirror_mode": {
    "name": "ipython",
    "version": 3
   },
   "file_extension": ".py",
   "mimetype": "text/x-python",
   "name": "python",
   "nbconvert_exporter": "python",
   "pygments_lexer": "ipython3",
   "version": "3.10.9"
  },
  "orig_nbformat": 4,
  "vscode": {
   "interpreter": {
    "hash": "88309f64b095d5ce3915af14323263fe7bafe3d638d2d7c64b7b949ff436de30"
   }
  }
 },
 "nbformat": 4,
 "nbformat_minor": 2
}
