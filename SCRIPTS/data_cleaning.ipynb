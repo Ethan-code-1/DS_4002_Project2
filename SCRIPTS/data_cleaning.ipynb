{
 "cells": [
  {
   "cell_type": "code",
   "execution_count": 6,
   "metadata": {},
   "outputs": [],
   "source": [
    "# load necessary libraries. install what you don't have\n",
    "import numpy as np\n",
    "import pandas as pd\n",
    "import requests\n",
    "import requests\n",
    "import urllib\n",
    "import os\n",
    "import pprint\n",
    "import json\n",
    "import matplotlib.pyplot as plt\n",
    "import seaborn as sns\n",
    "import nltk \n",
    "import sklearn "
   ]
  },
  {
   "cell_type": "code",
   "execution_count": 35,
   "metadata": {},
   "outputs": [],
   "source": [
    "df = pd.read_excel(\"../DATA/original_data.xls\", sheet_name=\"Data\")"
   ]
  },
  {
   "cell_type": "code",
   "execution_count": 36,
   "metadata": {},
   "outputs": [
    {
     "name": "stdout",
     "output_type": "stream",
     "text": [
      "           Date  10 Year Return   PE Ratio\n",
      "1128 1965-01-01       -0.034756  18.748925\n",
      "1129 1965-02-01       -0.026489  18.709548\n",
      "1130 1965-03-01       -0.022138  18.553419\n",
      "1131 1965-04-01       -0.022265  18.585224\n",
      "1132 1965-05-01       -0.018137  18.651798\n"
     ]
    }
   ],
   "source": [
    "#Columns from original dataset we want to keep\n",
    "columns_to_keep = [\"Date\", \"S&P Comp. P\", \"Earnings\", \"10 Year Annualized Stock Real Return\"]\n",
    "df = df[columns_to_keep]\n",
    "\n",
    "#Date format is inconsistent so lets make the formatting better and recognized as a date data type\n",
    "df[\"Date\"] = pd.to_datetime(df[\"Date\"].astype(str), format=\"%Y-%m-%d\")\n",
    "\n",
    "#Filter out all dates before 1965, reconsider if this is a good selection later\n",
    "df = df[df[\"Date\"] >= \"1965-01-01\"]\n",
    "\n",
    "#Added PE ratio column\n",
    "df[\"PE Ratio\"] = df[\"S&P Comp. P\"] / df[\"Earnings\"]\n",
    "\n",
    "#Drop price and earnings columns because that data is now stored in the PE column\n",
    "df = df.drop(columns=[\"S&P Comp. P\", \"Earnings\"])\n",
    "\n",
    "df.rename(columns={\"10 Year Annualized Stock Real Return\": \"10 Year Return\"}, inplace=True)\n",
    "\n",
    "\n",
    "print(df.head())"
   ]
  }
 ],
 "metadata": {
  "kernelspec": {
   "display_name": "base",
   "language": "python",
   "name": "python3"
  },
  "language_info": {
   "codemirror_mode": {
    "name": "ipython",
    "version": 3
   },
   "file_extension": ".py",
   "mimetype": "text/x-python",
   "name": "python",
   "nbconvert_exporter": "python",
   "pygments_lexer": "ipython3",
   "version": "3.10.9"
  },
  "orig_nbformat": 4,
  "vscode": {
   "interpreter": {
    "hash": "88309f64b095d5ce3915af14323263fe7bafe3d638d2d7c64b7b949ff436de30"
   }
  }
 },
 "nbformat": 4,
 "nbformat_minor": 2
}
